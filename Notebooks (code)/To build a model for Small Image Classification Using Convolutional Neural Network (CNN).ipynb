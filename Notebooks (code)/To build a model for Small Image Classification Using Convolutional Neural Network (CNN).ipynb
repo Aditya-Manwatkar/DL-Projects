{
 "cells": [
  {
   "cell_type": "markdown",
   "id": "1c1ce3e3",
   "metadata": {},
   "source": [
    
    "###  To build a model for Small Image Classification Using Convolutional Neural Network (CNN)"
   ]
  },
  {
   "cell_type": "code",
   "execution_count": 1,
   "id": "e66e868e",
   "metadata": {},
   "outputs": [
    {
     "name": "stdout",
     "output_type": "stream",
     "text": [
      "WARNING:tensorflow:From C:\\Users\\adity\\anaconda3\\Lib\\site-packages\\keras\\src\\losses.py:2976: The name tf.losses.sparse_softmax_cross_entropy is deprecated. Please use tf.compat.v1.losses.sparse_softmax_cross_entropy instead.\n",
      "\n"
     ]
    }
   ],
   "source": [
    "import tensorflow as tf\n",
    "from tensorflow.keras import datasets, layers, models\n",
    "import matplotlib.pyplot as plt\n",
    "import numpy as np"
   ]
  },
  {
   "cell_type": "markdown",
   "id": "706135e6",
   "metadata": {},
   "source": [
    "### Loading Dataset"
   ]
  },
  {
   "cell_type": "code",
   "execution_count": 2,
   "id": "581ae9a7",
   "metadata": {},
   "outputs": [
    {
     "name": "stdout",
     "output_type": "stream",
     "text": [
      "Downloading data from https://www.cs.toronto.edu/~kriz/cifar-10-python.tar.gz\n",
      "170498071/170498071 [==============================] - 704s 4us/step\n"
     ]
    }
   ],
   "source": [
    "(X_train, y_train), (X_test, y_test) = datasets.cifar10.load_data()"
   ]
  },
  {
   "cell_type": "code",
   "execution_count": 4,
   "id": "301b53db",
   "metadata": {},
   "outputs": [
    {
     "data": {
      "text/plain": [
       "(50000, 32, 32, 3)"
      ]
     },
     "execution_count": 4,
     "metadata": {},
     "output_type": "execute_result"
    }
   ],
   "source": [
    "X_train.shape"
   ]
  },
  {
   "cell_type": "code",
   "execution_count": 5,
   "id": "6477fbcb",
   "metadata": {},
   "outputs": [
    {
     "data": {
      "text/plain": [
       "(10000, 32, 32, 3)"
      ]
     },
     "execution_count": 5,
     "metadata": {},
     "output_type": "execute_result"
    }
   ],
   "source": [
    "X_test.shape"
   ]
  },
  {
   "cell_type": "code",
   "execution_count": 6,
   "id": "460b6ed5",
   "metadata": {},
   "outputs": [
    {
     "data": {
      "text/plain": [
       "(50000, 1)"
      ]
     },
     "execution_count": 6,
     "metadata": {},
     "output_type": "execute_result"
    }
   ],
   "source": [
    "y_train.shape"
   ]
  },
  {
   "cell_type": "code",
   "execution_count": 7,
   "id": "c6d99449",
   "metadata": {},
   "outputs": [
    {
     "data": {
      "text/plain": [
       "array([[6],\n",
       "       [9],\n",
       "       [9],\n",
       "       [4],\n",
       "       [1]], dtype=uint8)"
      ]
     },
     "execution_count": 7,
     "metadata": {},
     "output_type": "execute_result"
    }
   ],
   "source": [
    "y_train[:5]"
   ]
  },
  {
   "cell_type": "code",
   "execution_count": 8,
   "id": "31cbb28c",
   "metadata": {},
   "outputs": [
    {
     "data": {
      "text/plain": [
       "array([6, 9, 9, 4, 1], dtype=uint8)"
      ]
     },
     "execution_count": 8,
     "metadata": {},
     "output_type": "execute_result"
    }
   ],
   "source": [
    "y_train = y_train.reshape(-1,)\n",
    "y_train[:5]"
   ]
  },
  {
   "cell_type": "code",
   "execution_count": 9,
   "id": "dbb3cbc2",
   "metadata": {},
   "outputs": [],
   "source": [
    "y_test = y_test.reshape(-1,)"
   ]
  },
  {
   "cell_type": "code",
   "execution_count": 10,
   "id": "7f19b91c",
   "metadata": {},
   "outputs": [],
   "source": [
    "classes = [\"airplane\", \"automobile\", \"bird\", \"cat\", \"deer\", \"dog\", \"frog\", \"horse\", \"ship\", \"truck\"]"
   ]
  },
  {
   "cell_type": "markdown",
   "id": "fceb72e3-3caa-41bd-9eeb-d450a48e1476",
   "metadata": {},
   "source": [
    "### Ploting the images with their associated labels"
   ]
  },
  {
   "cell_type": "code",
   "execution_count": 26,
   "id": "9b275c98",
   "metadata": {},
   "outputs": [],
   "source": [
    "def plot_sample(X, y, index):\n",
    "    plt.figure(figsize = (15, 5))\n",
    "    plt.imshow(X[index])\n",
    "    plt.xlabel(classes[y[index]])"
   ]
  },
  {
   "cell_type": "code",
   "execution_count": 25,
   "id": "773cb8d9",
   "metadata": {},
   "outputs": [
    {
     "data": {
      "image/png": "[encoded data removed]",
      "text/plain": [
       "<Figure size 500x500 with 1 Axes>"
      ]
     },
     "metadata": {},
     "output_type": "display_data"
    }
   ],
   "source": [
    "plot_sample(X_train, y_train, 0)"
   ]
  },
  {
   "cell_type": "code",
   "execution_count": 13,
   "id": "54ee8bbd",
   "metadata": {},
   "outputs": [
    {
     "data": {
      "image/png": "[encoded data removed]",
      "text/plain": [
       "<Figure size 1500x500 with 1 Axes>"
      ]
     },
     "metadata": {},
     "output_type": "display_data"
    }
   ],
   "source": [
    "plot_sample(X_train, y_train, 1)"
   ]
  },
  {
   "cell_type": "markdown",
   "id": "9cc06a43",
   "metadata": {},
   "source": [
    "### Normalizing the Training Data"
   ]
  },
  {
   "cell_type": "code",
   "execution_count": 14,
   "id": "d4f186e2",
   "metadata": {},
   "outputs": [],
   "source": [
    "X_train = X_train / 255.0\n",
    "X_test = X_test / 255.0"
   ]
  },
  {
   "cell_type": "markdown",
   "id": "2f84bce1",
   "metadata": {},
   "source": [
    "### Building Simple Convolutional Neural Network for Image Classification"
   ]
  },
  {
   "cell_type": "code",
   "execution_count": 15,
   "id": "63ca300f",
   "metadata": {},
   "outputs": [
    {
     "name": "stdout",
     "output_type": "stream",
     "text": [
      "WARNING:tensorflow:From C:\\Users\\adity\\anaconda3\\Lib\\site-packages\\keras\\src\\backend.py:873: The name tf.get_default_graph is deprecated. Please use tf.compat.v1.get_default_graph instead.\n",
      "\n",
      "WARNING:tensorflow:From C:\\Users\\adity\\anaconda3\\Lib\\site-packages\\keras\\src\\layers\\pooling\\max_pooling2d.py:161: The name tf.nn.max_pool is deprecated. Please use tf.nn.max_pool2d instead.\n",
      "\n"
     ]
    }
   ],
   "source": [
    "cnn = models.Sequential([\n",
    "    layers.Conv2D(filters = 32, kernel_size = (3, 3), activation = 'relu', input_shape = (32, 32, 3)),\n",
    "    layers.MaxPooling2D((2,2)),\n",
    "    \n",
    "    layers.Conv2D(filters = 32, kernel_size = (3, 3), activation = 'relu'),\n",
    "    layers.MaxPooling2D((2,2)),\n",
    "    \n",
    "    layers.Flatten(),\n",
    "    layers.Dense(64, activation = 'relu'),\n",
    "    layers.Dense(10, activation = 'softmax')\n",
    "])"
   ]
  },
  {
   "cell_type": "markdown",
   "id": "47dd8c9c-24d2-4e93-9801-014f379cd59e",
   "metadata": {},
   "source": [
    "### Compiling the model"
   ]
  },
  {
   "cell_type": "code",
   "execution_count": 16,
   "id": "a571f11a",
   "metadata": {},
   "outputs": [
    {
     "name": "stdout",
     "output_type": "stream",
     "text": [
      "WARNING:tensorflow:From C:\\Users\\adity\\anaconda3\\Lib\\site-packages\\keras\\src\\optimizers\\__init__.py:309: The name tf.train.Optimizer is deprecated. Please use tf.compat.v1.train.Optimizer instead.\n",
      "\n"
     ]
    }
   ],
   "source": [
    "cnn.compile(optimizer = 'adam',\n",
    "           loss = 'sparse_categorical_crossentropy',\n",
    "           metrics = ['accuracy'])"
   ]
  },
  {
   "cell_type": "markdown",
   "id": "852f5a91-72d2-4927-b2e5-baa6391a624d",
   "metadata": {},
   "source": [
    "### Fitting the training data to the model"
   ]
  },
  {
   "cell_type": "code",
   "execution_count": 17,
   "id": "129888af",
   "metadata": {},
   "outputs": [
    {
     "name": "stdout",
     "output_type": "stream",
     "text": [
      "Epoch 1/20\n",
      "WARNING:tensorflow:From C:\\Users\\adity\\anaconda3\\Lib\\site-packages\\keras\\src\\utils\\tf_utils.py:492: The name tf.ragged.RaggedTensorValue is deprecated. Please use tf.compat.v1.ragged.RaggedTensorValue instead.\n",
      "\n",
      "WARNING:tensorflow:From C:\\Users\\adity\\anaconda3\\Lib\\site-packages\\keras\\src\\engine\\base_layer_utils.py:384: The name tf.executing_eagerly_outside_functions is deprecated. Please use tf.compat.v1.executing_eagerly_outside_functions instead.\n",
      "\n",
      "1563/1563 [==============================] - 19s 10ms/step - loss: 1.5330 - accuracy: 0.4456\n",
      "Epoch 2/20\n",
      "1563/1563 [==============================] - 16s 10ms/step - loss: 1.1935 - accuracy: 0.5755\n",
      "Epoch 3/20\n",
      "1563/1563 [==============================] - 15s 10ms/step - loss: 1.0630 - accuracy: 0.6258\n",
      "Epoch 4/20\n",
      "1563/1563 [==============================] - 16s 10ms/step - loss: 0.9840 - accuracy: 0.6542\n",
      "Epoch 5/20\n",
      "1563/1563 [==============================] - 15s 10ms/step - loss: 0.9340 - accuracy: 0.6732\n",
      "Epoch 6/20\n",
      "1563/1563 [==============================] - 15s 10ms/step - loss: 0.8892 - accuracy: 0.6903\n",
      "Epoch 7/20\n",
      "1563/1563 [==============================] - 15s 10ms/step - loss: 0.8534 - accuracy: 0.7028\n",
      "Epoch 8/20\n",
      "1563/1563 [==============================] - 16s 10ms/step - loss: 0.8168 - accuracy: 0.7147\n",
      "Epoch 9/20\n",
      "1563/1563 [==============================] - 15s 10ms/step - loss: 0.7840 - accuracy: 0.7265\n",
      "Epoch 10/20\n",
      "1563/1563 [==============================] - 15s 10ms/step - loss: 0.7541 - accuracy: 0.7362\n",
      "Epoch 11/20\n",
      "1563/1563 [==============================] - 15s 10ms/step - loss: 0.7320 - accuracy: 0.7442\n",
      "Epoch 12/20\n",
      "1563/1563 [==============================] - 15s 10ms/step - loss: 0.7080 - accuracy: 0.7529\n",
      "Epoch 13/20\n",
      "1563/1563 [==============================] - 15s 10ms/step - loss: 0.6835 - accuracy: 0.7614\n",
      "Epoch 14/20\n",
      "1563/1563 [==============================] - 16s 10ms/step - loss: 0.6708 - accuracy: 0.7646\n",
      "Epoch 15/20\n",
      "1563/1563 [==============================] - 15s 10ms/step - loss: 0.6528 - accuracy: 0.7718\n",
      "Epoch 16/20\n",
      "1563/1563 [==============================] - 16s 10ms/step - loss: 0.6314 - accuracy: 0.7789\n",
      "Epoch 17/20\n",
      "1563/1563 [==============================] - 15s 10ms/step - loss: 0.6142 - accuracy: 0.7843\n",
      "Epoch 18/20\n",
      "1563/1563 [==============================] - 15s 10ms/step - loss: 0.6004 - accuracy: 0.7893\n",
      "Epoch 19/20\n",
      "1563/1563 [==============================] - 15s 10ms/step - loss: 0.5873 - accuracy: 0.7941\n",
      "Epoch 20/20\n",
      "1563/1563 [==============================] - 15s 10ms/step - loss: 0.5721 - accuracy: 0.7979\n"
     ]
    },
    {
     "data": {
      "text/plain": [
       "<keras.src.callbacks.History at 0x19f412f4590>"
      ]
     },
     "execution_count": 17,
     "metadata": {},
     "output_type": "execute_result"
    }
   ],
   "source": [
    "cnn.fit(X_train, y_train, epochs = 20)"
   ]
  },
  {
   "cell_type": "markdown",
   "id": "032b1f1f-0554-4047-b1af-b8f8bf920dde",
   "metadata": {},
   "source": [
    "### Evaluating the model"
   ]
  },
  {
   "cell_type": "code",
   "execution_count": 18,
   "id": "41e51c9f",
   "metadata": {},
   "outputs": [
    {
     "name": "stdout",
     "output_type": "stream",
     "text": [
      "313/313 [==============================] - 2s 5ms/step - loss: 0.9857 - accuracy: 0.6910\n"
     ]
    },
    {
     "data": {
      "text/plain": [
       "[0.9857240915298462, 0.6909999847412109]"
      ]
     },
     "execution_count": 18,
     "metadata": {},
     "output_type": "execute_result"
    }
   ],
   "source": [
    "cnn.evaluate(X_test, y_test)"
   ]
  },
  {
   "cell_type": "markdown",
   "id": "2c610355-dffc-420e-bd6b-b6cb46fec772",
   "metadata": {},
   "source": [
    "### Predicting the output for some test images"
   ]
  },
  {
   "cell_type": "code",
   "execution_count": 19,
   "id": "4b7f7817",
   "metadata": {},
   "outputs": [
    {
     "name": "stdout",
     "output_type": "stream",
     "text": [
      "313/313 [==============================] - 2s 5ms/step\n"
     ]
    },
    {
     "data": {
      "text/plain": [
       "array([[1.09140801e-05, 1.57272427e-06, 7.17066287e-05, 8.77384841e-01,\n",
       "        6.09675953e-06, 1.22247063e-01, 2.22632909e-04, 3.58551770e-05,\n",
       "        1.57095783e-05, 3.57047088e-06],\n",
       "       [6.84387778e-05, 3.58080640e-02, 5.03112119e-07, 6.93639606e-07,\n",
       "        1.39878047e-08, 2.80372774e-11, 4.93493282e-08, 3.29980321e-10,\n",
       "        9.62009013e-01, 2.11320166e-03],\n",
       "       [3.32578644e-02, 3.98543060e-01, 7.06577383e-04, 2.45169178e-03,\n",
       "        9.35869612e-05, 1.62365050e-05, 1.25339764e-04, 3.29167488e-05,\n",
       "        5.61301470e-01, 3.47117684e-03],\n",
       "       [5.41739404e-01, 1.82135850e-02, 7.56676821e-03, 1.94712379e-03,\n",
       "        5.77393686e-04, 1.67293128e-05, 6.22678257e-04, 1.11644265e-04,\n",
       "        4.28938538e-01, 2.66100658e-04],\n",
       "       [2.09253031e-07, 4.30950877e-06, 7.48016059e-01, 1.11450016e-01,\n",
       "        4.04394306e-02, 3.22524644e-02, 6.64810464e-02, 7.75723041e-09,\n",
       "        1.35638996e-03, 3.89826873e-08]], dtype=float32)"
      ]
     },
     "execution_count": 19,
     "metadata": {},
     "output_type": "execute_result"
    }
   ],
   "source": [
    "y_pred = cnn.predict(X_test)\n",
    "y_pred[:5]"
   ]
  },
  {
   "cell_type": "code",
   "execution_count": 20,
   "id": "7ed759e7",
   "metadata": {},
   "outputs": [
    {
     "data": {
      "text/plain": [
       "[3, 8, 8, 0, 2]"
      ]
     },
     "execution_count": 20,
     "metadata": {},
     "output_type": "execute_result"
    }
   ],
   "source": [
    "y_classes = [np.argmax(element) for element in y_pred]\n",
    "y_classes[:5]"
   ]
  },
  {
   "cell_type": "code",
   "execution_count": 21,
   "id": "584d8e1b",
   "metadata": {},
   "outputs": [
    {
     "data": {
      "text/plain": [
       "array([3, 8, 8, 0, 6], dtype=uint8)"
      ]
     },
     "execution_count": 21,
     "metadata": {},
     "output_type": "execute_result"
    }
   ],
   "source": [
    "y_test[:5]"
   ]
  },
  {
   "cell_type": "code",
   "execution_count": 27,
   "id": "f44f1439",
   "metadata": {},
   "outputs": [
    {
     "data": {
      "image/png": "[encoded data removed]",
      "text/plain": [
       "<Figure size 1500x500 with 1 Axes>"
      ]
     },
     "metadata": {},
     "output_type": "display_data"
    }
   ],
   "source": [
    "plot_sample(X_test, y_test, 1)"
   ]
  },
  {
   "cell_type": "code",
   "execution_count": 28,
   "id": "60876d25-3ce2-4048-9d23-13e2be27b1dd",
   "metadata": {},
   "outputs": [
    {
     "data": {
      "image/png": "[encoded data removed]",
      "text/plain": [
       "<Figure size 1500x500 with 1 Axes>"
      ]
     },
     "metadata": {},
     "output_type": "display_data"
    }
   ],
   "source": [
    "plot_sample(X_test,y_test,0)"
   ]
  },
  {
   "cell_type": "code",
   "execution_count": 23,
   "id": "531445dd",
   "metadata": {},
   "outputs": [
    {
     "data": {
      "text/plain": [
       "'ship'"
      ]
     },
     "execution_count": 23,
     "metadata": {},
     "output_type": "execute_result"
    }
   ],
   "source": [
    "classes[y_classes[1]]"
   ]
  },
  {
   "cell_type": "code",
   "execution_count": 30,
   "id": "99d931b3-d16c-4e1f-a687-14bd3e07799a",
   "metadata": {},
   "outputs": [
    {
     "data": {
      "text/plain": [
       "'cat'"
      ]
     },
     "execution_count": 30,
     "metadata": {},
     "output_type": "execute_result"
    }
   ],
   "source": [
    "classes[y_classes[0]]"
   ]
  }
 ],
 "metadata": {
  "kernelspec": {
   "display_name": "Python 3 (ipykernel)",
   "language": "python",
   "name": "python3"
  },
  "language_info": {
   "codemirror_mode": {
    "name": "ipython",
    "version": 3
   },
   "file_extension": ".py",
   "mimetype": "text/x-python",
   "name": "python",
   "nbconvert_exporter": "python",
   "pygments_lexer": "ipython3",
   "version": "3.11.5"
  }
 },
 "nbformat": 4,
 "nbformat_minor": 5
}
