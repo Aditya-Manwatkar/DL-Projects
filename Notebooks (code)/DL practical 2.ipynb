{
 "cells": [
  {
   "cell_type": "markdown",
   "id": "c57050c8",
   "metadata": {},
   "source": [
    "# Practical No. 2\n",
    "### Aim: To perform and implement the single layer perceptron model."
   ]
  },
  {
   "cell_type": "markdown",
   "id": "5eb8a1a4",
   "metadata": {},
   "source": [
    "## Representation of AND LOGIC function using Single Layer Perceptron"
   ]
  },
  {
   "cell_type": "code",
   "execution_count": 1,
   "id": "c0bb03a8",
   "metadata": {},
   "outputs": [],
   "source": [
    "import numpy as np"
   ]
  },
  {
   "cell_type": "code",
   "execution_count": 2,
   "id": "0500eb09",
   "metadata": {},
   "outputs": [],
   "source": [
    "#defining the activation function i.e.,Step activation function\n",
    "def stepunit(v):\n",
    "    if v>=0:\n",
    "        return 1\n",
    "    else:\n",
    "        return 0"
   ]
  },
  {
   "cell_type": "code",
   "execution_count": 3,
   "id": "f5a1d68b",
   "metadata": {},
   "outputs": [],
   "source": [
    "#creating the perceptron\n",
    "def perceptron(X,W,b): #here, X is input array, W is weight array and b is bias\n",
    "    Y=np.dot(X,W)+ b #net sum of Inputs i.e., Yi=Summation(XiWi)+ b\n",
    "    y=stepunit(Y) #fitting output to the Step Activation function\n",
    "    return y"
   ]
  },
  {
   "cell_type": "code",
   "execution_count": 4,
   "id": "98122a85",
   "metadata": {},
   "outputs": [],
   "source": [
    "def AND_logic(x):\n",
    "    W=np.array([1,1]) #assigning weights i.e., w1=1 & w2=1\n",
    "    b=-1.5 #assigning bias\n",
    "    return perceptron(x,W,b)"
   ]
  },
  {
   "cell_type": "code",
   "execution_count": 5,
   "id": "33197e34",
   "metadata": {},
   "outputs": [],
   "source": [
    "#testing the perceptron for AND logic\n",
    "test1=np.array([0,0])\n",
    "test2=np.array([0,1])\n",
    "test3=np.array([1,0])\n",
    "test4=np.array([1,1])"
   ]
  },
  {
   "cell_type": "code",
   "execution_count": 6,
   "id": "85531f5f",
   "metadata": {},
   "outputs": [
    {
     "name": "stdout",
     "output_type": "stream",
     "text": [
      "AND [0 0]=0\n",
      "AND [0 1]=0\n",
      "AND [1 0]=0\n",
      "AND [1 1]=1\n"
     ]
    }
   ],
   "source": [
    "print(f\"AND {test1}={AND_logic(test1)}\")\n",
    "print(f\"AND {test2}={AND_logic(test2)}\")\n",
    "print(f\"AND {test3}={AND_logic(test3)}\")\n",
    "print(f\"AND {test4}={AND_logic(test4)}\")"
   ]
  },
  {
   "cell_type": "markdown",
   "id": "559117c8",
   "metadata": {},
   "source": [
    "## Representation of OR LOGIC function using Single Layer Perceptron"
   ]
  },
  {
   "cell_type": "code",
   "execution_count": 55,
   "id": "20f49f13",
   "metadata": {},
   "outputs": [
    {
     "name": "stdout",
     "output_type": "stream",
     "text": [
      "AND([0 0])=0\n",
      "AND([0 1])=1\n",
      "AND([1 0])=1\n",
      "AND([1 1])=1\n"
     ]
    }
   ],
   "source": [
    "#defining the activation function i.e.,Step activation function\n",
    "def stepunit(v):\n",
    "    if v>=0:\n",
    "        return 1\n",
    "    else:\n",
    "        return 0\n",
    "\n",
    "#creating the perceptron\n",
    "def perceptron(X,W,b):#here, X is input array, W is weight array and b is bias\n",
    "    Y=np.dot(X,W)+b #net sum of Inputs i.e., Yi=Summation(XiWi)+ b\n",
    "    y=stepunit(Y) #fitting output to the Step Activation function\n",
    "    return y\n",
    "\n",
    "def OR_logic(x):\n",
    "    W=np.array([1,1]) #assigning weights i.e., w1=1 & w2=1\n",
    "    b=-0.5 #assigning bias\n",
    "    return perceptron(x,W,b)\n",
    "\n",
    "#testing the perceptron for OR logic\n",
    "test1=np.array([0,0])\n",
    "test2=np.array([0,1])\n",
    "test3=np.array([1,0])\n",
    "test4=np.array([1,1])\n",
    "print(f\"AND {test1}={OR_logic(test1)}\")\n",
    "print(f\"AND {test2}={OR_logic(test2)}\")\n",
    "print(f\"AND {test3}={OR_logic(test3)}\")\n",
    "print(f\"AND {test4}={OR_logic(test4)}\")"
   ]
  }
 ],
 "metadata": {
  "kernelspec": {
   "display_name": "Python 3 (ipykernel)",
   "language": "python",
   "name": "python3"
  },
  "language_info": {
   "codemirror_mode": {
    "name": "ipython",
    "version": 3
   },
   "file_extension": ".py",
   "mimetype": "text/x-python",
   "name": "python",
   "nbconvert_exporter": "python",
   "pygments_lexer": "ipython3",
   "version": "3.11.5"
  }
 },
 "nbformat": 4,
 "nbformat_minor": 5
}
